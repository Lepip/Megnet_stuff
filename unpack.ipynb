{
 "cells": [
  {
   "cell_type": "code",
   "execution_count": 28,
   "id": "5a12a2c9e9c8b1b4",
   "metadata": {
    "ExecuteTime": {
     "end_time": "2024-07-08T13:28:45.484959Z",
     "start_time": "2024-07-08T13:28:45.465708Z"
    }
   },
   "outputs": [],
   "source": [
    "%load_ext autoreload\n",
    "%autoreload 2"
   ]
  },
  {
   "cell_type": "code",
   "execution_count": 1,
   "id": "870cb65a04cd725c",
   "metadata": {
    "ExecuteTime": {
     "end_time": "2024-07-10T14:49:41.918786Z",
     "start_time": "2024-07-10T14:49:41.912170Z"
    }
   },
   "outputs": [
    {
     "name": "stdout",
     "output_type": "stream",
     "text": [
      "3.10.12 (main, Mar 22 2024, 16:50:05) [GCC 11.4.0]\n"
     ]
    }
   ],
   "source": [
    "import sys\n",
    "print(sys.version)"
   ]
  },
  {
   "cell_type": "code",
   "execution_count": 1,
   "id": "5ce6626cb64f151",
   "metadata": {
    "ExecuteTime": {
     "end_time": "2024-07-10T14:29:52.443881Z",
     "start_time": "2024-07-10T14:29:50.482573Z"
    }
   },
   "outputs": [],
   "source": [
    "from collections import defaultdict\n",
    "import pandas as pd\n",
    "import numpy as np\n",
    "from pathlib import Path\n",
    "import matplotlib.pyplot as plt\n",
    "from collections import defaultdict\n",
    "import matplotlib.cm as cm\n",
    "import pickle\n",
    "import pymatgen\n",
    "import gzip\n",
    "from pymatgen.io.ase import AseAtomsAdaptor\n",
    "from pymatgen.core.periodic_table import Element\n",
    "from ase.visualize.plot import plot_atoms\n",
    "\n",
    "%config InlineBackend.figure_format='retina'"
   ]
  },
  {
   "cell_type": "code",
   "execution_count": 2,
   "id": "27f4dc0809212148",
   "metadata": {
    "ExecuteTime": {
     "end_time": "2024-07-08T13:32:39.951629Z",
     "start_time": "2024-07-08T13:32:39.946141Z"
    }
   },
   "outputs": [
    {
     "data": {
      "text/plain": [
       "'1.23.5'"
      ]
     },
     "execution_count": 2,
     "metadata": {},
     "output_type": "execute_result"
    }
   ],
   "source": [
    "import numpy as np\n",
    "np.__version__"
   ]
  },
  {
   "cell_type": "code",
   "execution_count": 3,
   "id": "93a8da48618ebbed",
   "metadata": {
    "ExecuteTime": {
     "end_time": "2024-07-08T13:32:10.214257Z",
     "start_time": "2024-07-08T13:32:10.174173Z"
    }
   },
   "outputs": [],
   "source": [
    "import pandas as pd"
   ]
  },
  {
   "cell_type": "code",
   "execution_count": 4,
   "id": "649ba903906147f2",
   "metadata": {
    "ExecuteTime": {
     "end_time": "2024-07-08T13:29:33.891232Z",
     "start_time": "2024-07-08T13:29:33.878616Z"
    }
   },
   "outputs": [
    {
     "data": {
      "text/plain": [
       "'1.5.1'"
      ]
     },
     "execution_count": 4,
     "metadata": {},
     "output_type": "execute_result"
    }
   ],
   "source": [
    "pd.__version__"
   ]
  },
  {
   "cell_type": "code",
   "execution_count": 1,
   "id": "68766193-e81f-4b72-a557-c2539333d267",
   "metadata": {},
   "outputs": [
    {
     "name": "stdout",
     "output_type": "stream",
     "text": [
      "Defaulting to user installation because normal site-packages is not writeable\n",
      "Requirement already satisfied: absl-py==2.1.0 in /home/lepip/.local/lib/python3.10/site-packages (from -r requirements.txt (line 1)) (2.1.0)\n",
      "Requirement already satisfied: aiohttp==3.9.5 in /home/lepip/.local/lib/python3.10/site-packages (from -r requirements.txt (line 2)) (3.9.5)\n",
      "Requirement already satisfied: aiosignal==1.3.1 in /home/lepip/.local/lib/python3.10/site-packages (from -r requirements.txt (line 3)) (1.3.1)\n",
      "Requirement already satisfied: annotated-types==0.7.0 in /home/lepip/.local/lib/python3.10/site-packages (from -r requirements.txt (line 4)) (0.7.0)\n",
      "Requirement already satisfied: ase==3.23.0 in /home/lepip/.local/lib/python3.10/site-packages (from -r requirements.txt (line 5)) (3.23.0)\n",
      "Requirement already satisfied: asttokens==2.4.1 in /home/lepip/.local/lib/python3.10/site-packages (from -r requirements.txt (line 6)) (2.4.1)\n",
      "Requirement already satisfied: astunparse==1.6.3 in /home/lepip/.local/lib/python3.10/site-packages (from -r requirements.txt (line 7)) (1.6.3)\n",
      "Requirement already satisfied: attrs==23.2.0 in /home/lepip/.local/lib/python3.10/site-packages (from -r requirements.txt (line 8)) (23.2.0)\n",
      "Requirement already satisfied: certifi==2024.2.2 in /home/lepip/.local/lib/python3.10/site-packages (from -r requirements.txt (line 9)) (2024.2.2)\n",
      "Requirement already satisfied: charset-normalizer==3.3.2 in /home/lepip/.local/lib/python3.10/site-packages (from -r requirements.txt (line 10)) (3.3.2)\n",
      "Requirement already satisfied: comm==0.2.2 in /home/lepip/.local/lib/python3.10/site-packages (from -r requirements.txt (line 11)) (0.2.2)\n",
      "Requirement already satisfied: contourpy==1.2.1 in /home/lepip/.local/lib/python3.10/site-packages (from -r requirements.txt (line 12)) (1.2.1)\n",
      "Requirement already satisfied: cycler==0.12.1 in /home/lepip/.local/lib/python3.10/site-packages (from -r requirements.txt (line 13)) (0.12.1)\n",
      "Requirement already satisfied: debugpy==1.8.1 in /home/lepip/.local/lib/python3.10/site-packages (from -r requirements.txt (line 14)) (1.8.1)\n",
      "Requirement already satisfied: decorator==5.1.1 in /home/lepip/.local/lib/python3.10/site-packages (from -r requirements.txt (line 15)) (5.1.1)\n",
      "Requirement already satisfied: dgl==2.1.0 in /home/lepip/.local/lib/python3.10/site-packages (from -r requirements.txt (line 16)) (2.1.0)\n",
      "Requirement already satisfied: executing==2.0.1 in /home/lepip/.local/lib/python3.10/site-packages (from -r requirements.txt (line 17)) (2.0.1)\n",
      "Requirement already satisfied: filelock==3.14.0 in /home/lepip/.local/lib/python3.10/site-packages (from -r requirements.txt (line 18)) (3.14.0)\n",
      "Requirement already satisfied: flatbuffers==24.3.25 in /home/lepip/.local/lib/python3.10/site-packages (from -r requirements.txt (line 19)) (24.3.25)\n",
      "Requirement already satisfied: fonttools==4.53.0 in /home/lepip/.local/lib/python3.10/site-packages (from -r requirements.txt (line 20)) (4.53.0)\n",
      "Requirement already satisfied: frozenlist==1.4.1 in /home/lepip/.local/lib/python3.10/site-packages (from -r requirements.txt (line 21)) (1.4.1)\n",
      "Requirement already satisfied: fsspec==2024.5.0 in /home/lepip/.local/lib/python3.10/site-packages (from -r requirements.txt (line 22)) (2024.5.0)\n",
      "Requirement already satisfied: future==1.0.0 in /home/lepip/.local/lib/python3.10/site-packages (from -r requirements.txt (line 23)) (1.0.0)\n",
      "Requirement already satisfied: gast==0.5.4 in /home/lepip/.local/lib/python3.10/site-packages (from -r requirements.txt (line 24)) (0.5.4)\n",
      "Requirement already satisfied: google-pasta==0.2.0 in /home/lepip/.local/lib/python3.10/site-packages (from -r requirements.txt (line 25)) (0.2.0)\n",
      "Requirement already satisfied: grpcio==1.64.0 in /home/lepip/.local/lib/python3.10/site-packages (from -r requirements.txt (line 26)) (1.64.0)\n",
      "Requirement already satisfied: h5py==3.11.0 in /home/lepip/.local/lib/python3.10/site-packages (from -r requirements.txt (line 27)) (3.11.0)\n",
      "Requirement already satisfied: idna==3.7 in /home/lepip/.local/lib/python3.10/site-packages (from -r requirements.txt (line 28)) (3.7)\n",
      "Requirement already satisfied: ipykernel==6.29.4 in /home/lepip/.local/lib/python3.10/site-packages (from -r requirements.txt (line 29)) (6.29.4)\n",
      "Requirement already satisfied: ipython==8.25.0 in /home/lepip/.local/lib/python3.10/site-packages (from -r requirements.txt (line 30)) (8.25.0)\n",
      "Requirement already satisfied: jedi==0.19.1 in /home/lepip/.local/lib/python3.10/site-packages (from -r requirements.txt (line 31)) (0.19.1)\n",
      "Requirement already satisfied: Jinja2==3.1.4 in /home/lepip/.local/lib/python3.10/site-packages (from -r requirements.txt (line 32)) (3.1.4)\n",
      "Requirement already satisfied: joblib==1.4.2 in /home/lepip/.local/lib/python3.10/site-packages (from -r requirements.txt (line 33)) (1.4.2)\n",
      "Requirement already satisfied: jupyter_client==8.6.2 in /home/lepip/.local/lib/python3.10/site-packages (from -r requirements.txt (line 34)) (8.6.2)\n",
      "Requirement already satisfied: jupyter_core==5.7.2 in /home/lepip/.local/lib/python3.10/site-packages (from -r requirements.txt (line 35)) (5.7.2)\n",
      "Requirement already satisfied: keras==3.3.3 in /home/lepip/.local/lib/python3.10/site-packages (from -r requirements.txt (line 36)) (3.3.3)\n",
      "Requirement already satisfied: kiwisolver==1.4.5 in /home/lepip/.local/lib/python3.10/site-packages (from -r requirements.txt (line 37)) (1.4.5)\n",
      "Requirement already satisfied: latexcodec==3.0.0 in /home/lepip/.local/lib/python3.10/site-packages (from -r requirements.txt (line 38)) (3.0.0)\n",
      "Requirement already satisfied: libclang==18.1.1 in /home/lepip/.local/lib/python3.10/site-packages (from -r requirements.txt (line 39)) (18.1.1)\n",
      "Requirement already satisfied: lightning-utilities==0.11.2 in /home/lepip/.local/lib/python3.10/site-packages (from -r requirements.txt (line 40)) (0.11.2)\n",
      "Requirement already satisfied: m3gnet==0.2.4 in /home/lepip/.local/lib/python3.10/site-packages (from -r requirements.txt (line 41)) (0.2.4)\n",
      "Requirement already satisfied: Markdown==3.6 in /home/lepip/.local/lib/python3.10/site-packages (from -r requirements.txt (line 42)) (3.6)\n",
      "Requirement already satisfied: markdown-it-py==3.0.0 in /home/lepip/.local/lib/python3.10/site-packages (from -r requirements.txt (line 43)) (3.0.0)\n",
      "Requirement already satisfied: MarkupSafe==2.1.5 in /home/lepip/.local/lib/python3.10/site-packages (from -r requirements.txt (line 44)) (2.1.5)\n",
      "Requirement already satisfied: matgl==1.1.1 in /home/lepip/.local/lib/python3.10/site-packages (from -r requirements.txt (line 45)) (1.1.1)\n",
      "Requirement already satisfied: matplotlib==3.9.0 in /home/lepip/.local/lib/python3.10/site-packages (from -r requirements.txt (line 46)) (3.9.0)\n",
      "Requirement already satisfied: matplotlib-inline==0.1.7 in /home/lepip/.local/lib/python3.10/site-packages (from -r requirements.txt (line 47)) (0.1.7)\n",
      "Requirement already satisfied: mdurl==0.1.2 in /home/lepip/.local/lib/python3.10/site-packages (from -r requirements.txt (line 48)) (0.1.2)\n",
      "Requirement already satisfied: ml-dtypes==0.3.2 in /home/lepip/.local/lib/python3.10/site-packages (from -r requirements.txt (line 49)) (0.3.2)\n",
      "Requirement already satisfied: monty==2024.5.24 in /home/lepip/.local/lib/python3.10/site-packages (from -r requirements.txt (line 50)) (2024.5.24)\n",
      "Requirement already satisfied: mpmath==1.3.0 in /home/lepip/.local/lib/python3.10/site-packages (from -r requirements.txt (line 51)) (1.3.0)\n",
      "Requirement already satisfied: multidict==6.0.5 in /home/lepip/.local/lib/python3.10/site-packages (from -r requirements.txt (line 52)) (6.0.5)\n",
      "Requirement already satisfied: namex==0.0.8 in /home/lepip/.local/lib/python3.10/site-packages (from -r requirements.txt (line 53)) (0.0.8)\n",
      "Requirement already satisfied: nest-asyncio==1.6.0 in /home/lepip/.local/lib/python3.10/site-packages (from -r requirements.txt (line 54)) (1.6.0)\n",
      "Requirement already satisfied: networkx==3.3 in /home/lepip/.local/lib/python3.10/site-packages (from -r requirements.txt (line 55)) (3.3)\n",
      "Requirement already satisfied: numpy==1.26.4 in /home/lepip/.local/lib/python3.10/site-packages (from -r requirements.txt (line 56)) (1.26.4)\n",
      "Requirement already satisfied: nvidia-cublas-cu12==12.1.3.1 in /home/lepip/.local/lib/python3.10/site-packages (from -r requirements.txt (line 57)) (12.1.3.1)\n",
      "Requirement already satisfied: nvidia-cuda-cupti-cu12==12.1.105 in /home/lepip/.local/lib/python3.10/site-packages (from -r requirements.txt (line 58)) (12.1.105)\n",
      "Requirement already satisfied: nvidia-cuda-nvrtc-cu12==12.1.105 in /home/lepip/.local/lib/python3.10/site-packages (from -r requirements.txt (line 59)) (12.1.105)\n",
      "Requirement already satisfied: nvidia-cuda-runtime-cu12==12.1.105 in /home/lepip/.local/lib/python3.10/site-packages (from -r requirements.txt (line 60)) (12.1.105)\n",
      "Requirement already satisfied: nvidia-cudnn-cu12==8.9.2.26 in /home/lepip/.local/lib/python3.10/site-packages (from -r requirements.txt (line 61)) (8.9.2.26)\n",
      "Requirement already satisfied: nvidia-cufft-cu12==11.0.2.54 in /home/lepip/.local/lib/python3.10/site-packages (from -r requirements.txt (line 62)) (11.0.2.54)\n",
      "Requirement already satisfied: nvidia-curand-cu12==10.3.2.106 in /home/lepip/.local/lib/python3.10/site-packages (from -r requirements.txt (line 63)) (10.3.2.106)\n",
      "Requirement already satisfied: nvidia-cusolver-cu12==11.4.5.107 in /home/lepip/.local/lib/python3.10/site-packages (from -r requirements.txt (line 64)) (11.4.5.107)\n",
      "Requirement already satisfied: nvidia-cusparse-cu12==12.1.0.106 in /home/lepip/.local/lib/python3.10/site-packages (from -r requirements.txt (line 65)) (12.1.0.106)\n",
      "Requirement already satisfied: nvidia-nccl-cu12==2.19.3 in /home/lepip/.local/lib/python3.10/site-packages (from -r requirements.txt (line 66)) (2.19.3)\n",
      "Requirement already satisfied: nvidia-nvjitlink-cu12==12.5.40 in /home/lepip/.local/lib/python3.10/site-packages (from -r requirements.txt (line 67)) (12.5.40)\n",
      "Requirement already satisfied: nvidia-nvtx-cu12==12.1.105 in /home/lepip/.local/lib/python3.10/site-packages (from -r requirements.txt (line 68)) (12.1.105)\n",
      "Requirement already satisfied: opt-einsum==3.3.0 in /home/lepip/.local/lib/python3.10/site-packages (from -r requirements.txt (line 69)) (3.3.0)\n",
      "Requirement already satisfied: optree==0.11.0 in /home/lepip/.local/lib/python3.10/site-packages (from -r requirements.txt (line 70)) (0.11.0)\n",
      "Requirement already satisfied: packaging==24.0 in /home/lepip/.local/lib/python3.10/site-packages (from -r requirements.txt (line 71)) (24.0)\n",
      "Requirement already satisfied: palettable==3.3.3 in /home/lepip/.local/lib/python3.10/site-packages (from -r requirements.txt (line 72)) (3.3.3)\n",
      "Collecting pandas==2.2.1\n",
      "  Downloading pandas-2.2.1-cp310-cp310-manylinux_2_17_x86_64.manylinux2014_x86_64.whl (13.0 MB)\n",
      "\u001b[2K     \u001b[38;2;114;156;31m━━━━━━━━━━━━━━━━━━━━━━━━━━━━━━━━━━━━━━━━\u001b[0m \u001b[32m13.0/13.0 MB\u001b[0m \u001b[31m7.1 MB/s\u001b[0m eta \u001b[36m0:00:00\u001b[0mm eta \u001b[36m0:00:01\u001b[0m[36m0:00:01\u001b[0mm\n",
      "\u001b[?25hRequirement already satisfied: parso==0.8.4 in /home/lepip/.local/lib/python3.10/site-packages (from -r requirements.txt (line 74)) (0.8.4)\n",
      "Requirement already satisfied: pexpect==4.9.0 in /home/lepip/.local/lib/python3.10/site-packages (from -r requirements.txt (line 75)) (4.9.0)\n",
      "Requirement already satisfied: pillow==10.3.0 in /home/lepip/.local/lib/python3.10/site-packages (from -r requirements.txt (line 76)) (10.3.0)\n",
      "Requirement already satisfied: platformdirs==4.2.2 in /home/lepip/.local/lib/python3.10/site-packages (from -r requirements.txt (line 77)) (4.2.2)\n",
      "Requirement already satisfied: plotly==5.22.0 in /home/lepip/.local/lib/python3.10/site-packages (from -r requirements.txt (line 78)) (5.22.0)\n",
      "Requirement already satisfied: prompt_toolkit==3.0.45 in /home/lepip/.local/lib/python3.10/site-packages (from -r requirements.txt (line 79)) (3.0.45)\n",
      "Requirement already satisfied: protobuf==4.25.3 in /home/lepip/.local/lib/python3.10/site-packages (from -r requirements.txt (line 80)) (4.25.3)\n",
      "Requirement already satisfied: psutil==5.9.8 in /home/lepip/.local/lib/python3.10/site-packages (from -r requirements.txt (line 81)) (5.9.8)\n",
      "Requirement already satisfied: ptyprocess==0.7.0 in /usr/lib/python3/dist-packages (from -r requirements.txt (line 82)) (0.7.0)\n",
      "Requirement already satisfied: pure-eval==0.2.2 in /home/lepip/.local/lib/python3.10/site-packages (from -r requirements.txt (line 83)) (0.2.2)\n",
      "Requirement already satisfied: pybtex==0.24.0 in /home/lepip/.local/lib/python3.10/site-packages (from -r requirements.txt (line 84)) (0.24.0)\n",
      "Requirement already satisfied: pydantic==2.7.2 in /home/lepip/.local/lib/python3.10/site-packages (from -r requirements.txt (line 85)) (2.7.2)\n",
      "Requirement already satisfied: pydantic_core==2.18.3 in /home/lepip/.local/lib/python3.10/site-packages (from -r requirements.txt (line 86)) (2.18.3)\n",
      "Requirement already satisfied: Pygments==2.18.0 in /home/lepip/.local/lib/python3.10/site-packages (from -r requirements.txt (line 87)) (2.18.0)\n",
      "Requirement already satisfied: pymatgen==2024.5.31 in /home/lepip/.local/lib/python3.10/site-packages (from -r requirements.txt (line 88)) (2024.5.31)\n",
      "Requirement already satisfied: pyparsing==3.1.2 in /home/lepip/.local/lib/python3.10/site-packages (from -r requirements.txt (line 89)) (3.1.2)\n",
      "Requirement already satisfied: python-dateutil==2.9.0.post0 in /home/lepip/.local/lib/python3.10/site-packages (from -r requirements.txt (line 90)) (2.9.0.post0)\n",
      "Requirement already satisfied: pytorch-lightning==2.2.5 in /home/lepip/.local/lib/python3.10/site-packages (from -r requirements.txt (line 91)) (2.2.5)\n",
      "Requirement already satisfied: pytz==2024.1 in /home/lepip/.local/lib/python3.10/site-packages (from -r requirements.txt (line 92)) (2024.1)\n",
      "Requirement already satisfied: PyYAML==6.0.1 in /home/lepip/.local/lib/python3.10/site-packages (from -r requirements.txt (line 93)) (6.0.1)\n",
      "Requirement already satisfied: pyzmq==26.0.3 in /home/lepip/.local/lib/python3.10/site-packages (from -r requirements.txt (line 94)) (26.0.3)\n",
      "Requirement already satisfied: requests==2.32.3 in /home/lepip/.local/lib/python3.10/site-packages (from -r requirements.txt (line 95)) (2.32.3)\n",
      "Requirement already satisfied: rich==13.7.1 in /home/lepip/.local/lib/python3.10/site-packages (from -r requirements.txt (line 96)) (13.7.1)\n",
      "Requirement already satisfied: ruamel.yaml==0.18.6 in /home/lepip/.local/lib/python3.10/site-packages (from -r requirements.txt (line 97)) (0.18.6)\n",
      "Requirement already satisfied: ruamel.yaml.clib==0.2.8 in /home/lepip/.local/lib/python3.10/site-packages (from -r requirements.txt (line 98)) (0.2.8)\n",
      "Requirement already satisfied: scipy==1.13.1 in /home/lepip/.local/lib/python3.10/site-packages (from -r requirements.txt (line 99)) (1.13.1)\n",
      "Requirement already satisfied: setuptools==70.0.0 in /home/lepip/.local/lib/python3.10/site-packages (from -r requirements.txt (line 100)) (70.0.0)\n",
      "Requirement already satisfied: six==1.16.0 in /usr/lib/python3/dist-packages (from -r requirements.txt (line 101)) (1.16.0)\n",
      "Requirement already satisfied: spglib==2.4.0 in /home/lepip/.local/lib/python3.10/site-packages (from -r requirements.txt (line 102)) (2.4.0)\n",
      "Requirement already satisfied: stack-data==0.6.3 in /home/lepip/.local/lib/python3.10/site-packages (from -r requirements.txt (line 103)) (0.6.3)\n",
      "Requirement already satisfied: sympy==1.12.1 in /home/lepip/.local/lib/python3.10/site-packages (from -r requirements.txt (line 104)) (1.12.1)\n",
      "Requirement already satisfied: tabulate==0.9.0 in /home/lepip/.local/lib/python3.10/site-packages (from -r requirements.txt (line 105)) (0.9.0)\n",
      "Requirement already satisfied: tenacity==8.3.0 in /home/lepip/.local/lib/python3.10/site-packages (from -r requirements.txt (line 106)) (8.3.0)\n",
      "Requirement already satisfied: tensorboard==2.16.2 in /home/lepip/.local/lib/python3.10/site-packages (from -r requirements.txt (line 107)) (2.16.2)\n",
      "Requirement already satisfied: tensorboard-data-server==0.7.2 in /home/lepip/.local/lib/python3.10/site-packages (from -r requirements.txt (line 108)) (0.7.2)\n",
      "Requirement already satisfied: tensorflow==2.16.1 in /home/lepip/.local/lib/python3.10/site-packages (from -r requirements.txt (line 109)) (2.16.1)\n",
      "Requirement already satisfied: termcolor==2.4.0 in /home/lepip/.local/lib/python3.10/site-packages (from -r requirements.txt (line 110)) (2.4.0)\n",
      "Requirement already satisfied: torch==2.2.1 in /home/lepip/.local/lib/python3.10/site-packages (from -r requirements.txt (line 111)) (2.2.1)\n",
      "Requirement already satisfied: torchdata==0.7.1 in /home/lepip/.local/lib/python3.10/site-packages (from -r requirements.txt (line 112)) (0.7.1)\n",
      "Requirement already satisfied: torchmetrics==1.4.0.post0 in /home/lepip/.local/lib/python3.10/site-packages (from -r requirements.txt (line 113)) (1.4.0.post0)\n",
      "Requirement already satisfied: tornado==6.4 in /home/lepip/.local/lib/python3.10/site-packages (from -r requirements.txt (line 114)) (6.4)\n",
      "Requirement already satisfied: tqdm==4.66.4 in /home/lepip/.local/lib/python3.10/site-packages (from -r requirements.txt (line 115)) (4.66.4)\n",
      "Requirement already satisfied: traitlets==5.14.3 in /home/lepip/.local/lib/python3.10/site-packages (from -r requirements.txt (line 116)) (5.14.3)\n",
      "Requirement already satisfied: typing_extensions==4.12.0 in /home/lepip/.local/lib/python3.10/site-packages (from -r requirements.txt (line 117)) (4.12.0)\n",
      "Requirement already satisfied: tzdata==2024.1 in /home/lepip/.local/lib/python3.10/site-packages (from -r requirements.txt (line 118)) (2024.1)\n",
      "Requirement already satisfied: uncertainties==3.1.7 in /home/lepip/.local/lib/python3.10/site-packages (from -r requirements.txt (line 119)) (3.1.7)\n",
      "Requirement already satisfied: urllib3==2.2.1 in /home/lepip/.local/lib/python3.10/site-packages (from -r requirements.txt (line 120)) (2.2.1)\n",
      "Requirement already satisfied: wcwidth==0.2.13 in /home/lepip/.local/lib/python3.10/site-packages (from -r requirements.txt (line 121)) (0.2.13)\n",
      "Requirement already satisfied: Werkzeug==3.0.3 in /home/lepip/.local/lib/python3.10/site-packages (from -r requirements.txt (line 122)) (3.0.3)\n",
      "Requirement already satisfied: wheel==0.43.0 in /home/lepip/.local/lib/python3.10/site-packages (from -r requirements.txt (line 123)) (0.43.0)\n",
      "Requirement already satisfied: wrapt==1.16.0 in /home/lepip/.local/lib/python3.10/site-packages (from -r requirements.txt (line 124)) (1.16.0)\n",
      "Requirement already satisfied: yarl==1.9.4 in /home/lepip/.local/lib/python3.10/site-packages (from -r requirements.txt (line 125)) (1.9.4)\n",
      "Requirement already satisfied: async-timeout<5.0,>=4.0 in /home/lepip/.local/lib/python3.10/site-packages (from aiohttp==3.9.5->-r requirements.txt (line 2)) (4.0.3)\n",
      "Requirement already satisfied: exceptiongroup in /home/lepip/.local/lib/python3.10/site-packages (from ipython==8.25.0->-r requirements.txt (line 30)) (1.2.0)\n",
      "Requirement already satisfied: tensorflow-io-gcs-filesystem>=0.23.1 in /home/lepip/.local/lib/python3.10/site-packages (from tensorflow==2.16.1->-r requirements.txt (line 109)) (0.37.1)\n",
      "Requirement already satisfied: triton==2.2.0 in /home/lepip/.local/lib/python3.10/site-packages (from torch==2.2.1->-r requirements.txt (line 111)) (2.2.0)\n",
      "Installing collected packages: pandas\n",
      "  Attempting uninstall: pandas\n",
      "    Found existing installation: pandas 2.2.2\n",
      "    Uninstalling pandas-2.2.2:\n",
      "      Successfully uninstalled pandas-2.2.2\n",
      "Successfully installed pandas-2.2.1\n"
     ]
    }
   ],
   "source": [
    "!pip install -r requirements.txt"
   ]
  },
  {
   "cell_type": "code",
   "execution_count": 5,
   "id": "initial_id",
   "metadata": {
    "ExecuteTime": {
     "end_time": "2024-07-08T13:27:09.235964Z",
     "start_time": "2024-07-08T13:27:09.202708Z"
    }
   },
   "outputs": [],
   "source": [
    "ds_pickle = open(\"MoS2_test_new.pkl.gz\", \"rb\")\n",
    "with gzip.open(\"MoS2_test_new.pkl.gz\", 'rb') as f:\n",
    "    ds = pickle.load(f)"
   ]
  },
  {
   "cell_type": "code",
   "execution_count": 6,
   "id": "5b80d648398e96ab",
   "metadata": {},
   "outputs": [
    {
     "data": {
      "text/plain": [
       "Index(['E_1', 'E_1_majority', 'E_1_minority', 'atomic_numbers',\n",
       "       'atomic_positions', 'atomic_symbols', 'band_gap', 'band_gap_majority',\n",
       "       'band_gap_minority', 'base', 'cell', 'cif', 'composition_string',\n",
       "       'defect_concentration', 'defect_nsites', 'defects', 'description',\n",
       "       'descriptor_id', 'energy', 'energy_per_atom', 'fermi_level',\n",
       "       'formation_energy', 'formation_energy_per_site', 'formula', 'homo',\n",
       "       'homo_majority', 'homo_minority', 'lattice', 'lumo', 'lumo_majority',\n",
       "       'lumo_minority', 'normalized_homo', 'normalized_homo_majority',\n",
       "       'normalized_homo_minority', 'normalized_lumo',\n",
       "       'normalized_lumo_majority', 'normalized_lumo_minority', 'nsites',\n",
       "       'nspecies', 'ordinal_id', 'pbc', 'space_group_no',\n",
       "       'structure_formation_energy', 'structure_formation_energy_per_atom',\n",
       "       'total_mag'],\n",
       "      dtype='object')"
      ]
     },
     "execution_count": 6,
     "metadata": {},
     "output_type": "execute_result"
    }
   ],
   "source": [
    "ds.columns"
   ]
  },
  {
   "cell_type": "code",
   "execution_count": 7,
   "id": "976a6e5b-bdb5-4ecf-92fc-f9c69f84f2e4",
   "metadata": {},
   "outputs": [],
   "source": [
    "with gzip.open(\"MoS2_train_ls0_new.pkl.gz\", 'rb') as f:\n",
    "    train_ls0 = pickle.load(f)"
   ]
  },
  {
   "cell_type": "code",
   "execution_count": 8,
   "id": "b4b082ca-5eb0-4976-8c66-beaf20d04b56",
   "metadata": {},
   "outputs": [
    {
     "data": {
      "text/plain": [
       "Index(['E_1', 'E_1_majority', 'E_1_minority', 'atomic_numbers',\n",
       "       'atomic_positions', 'atomic_symbols', 'band_gap', 'band_gap_majority',\n",
       "       'band_gap_minority', 'base', 'cell', 'cif', 'composition_string',\n",
       "       'defect_concentration', 'defect_nsites', 'defects', 'description',\n",
       "       'descriptor_id', 'energy', 'energy_per_atom', 'fermi_level',\n",
       "       'formation_energy', 'formation_energy_per_site', 'formula', 'homo',\n",
       "       'homo_majority', 'homo_minority', 'lattice', 'lumo', 'lumo_majority',\n",
       "       'lumo_minority', 'normalized_homo', 'normalized_homo_majority',\n",
       "       'normalized_homo_minority', 'normalized_lumo',\n",
       "       'normalized_lumo_majority', 'normalized_lumo_minority', 'nsites',\n",
       "       'nspecies', 'ordinal_id', 'pbc', 'space_group_no',\n",
       "       'structure_formation_energy', 'structure_formation_energy_per_atom',\n",
       "       'total_mag'],\n",
       "      dtype='object')"
      ]
     },
     "execution_count": 8,
     "metadata": {},
     "output_type": "execute_result"
    }
   ],
   "source": [
    "train_ls0.columns"
   ]
  },
  {
   "cell_type": "code",
   "execution_count": 9,
   "id": "1349c0d3-07a2-4a43-815d-0983858bcbea",
   "metadata": {},
   "outputs": [
    {
     "data": {
      "text/plain": [
       "E_1                                                                                  NaN\n",
       "E_1_majority                                                                         NaN\n",
       "E_1_minority                                                                         NaN\n",
       "atomic_numbers                         [42, 42, 42, 42, 42, 42, 42, 42, 42, 42, 42, 4...\n",
       "atomic_positions                       [[1.2761262868643541e-07, 1.8419295545177048, ...\n",
       "atomic_symbols                         [Mo, Mo, Mo, Mo, Mo, Mo, Mo, Mo, Mo, Mo, Mo, M...\n",
       "band_gap                                                                          1.0835\n",
       "band_gap_majority                                                                 1.0835\n",
       "band_gap_minority                                                                 1.0835\n",
       "base                                                                                MoS2\n",
       "cell                                                                           [8, 8, 1]\n",
       "cif                                    # generated using pymatgen\\ndata_Mo63WS126\\n_s...\n",
       "composition_string                                                       Mo_63_S_126_W_1\n",
       "defect_concentration                                                                 low\n",
       "defect_nsites                                                                          3\n",
       "defects                                [{'type': 'substitution', 'from': 'Mo', 'to': ...\n",
       "description                                                                           S3\n",
       "descriptor_id                                                   6141cf16baaf234b35290184\n",
       "energy                                                                      -1386.443761\n",
       "energy_per_atom                                                                -7.297072\n",
       "fermi_level                                                                    -0.228296\n",
       "formation_energy                                                                5.492739\n",
       "formation_energy_per_site                                                       1.830913\n",
       "formula                                                     {'Mo': 63, 'S': 126, 'W': 1}\n",
       "homo                                                                             -0.6918\n",
       "homo_majority                                                                    -0.6918\n",
       "homo_minority                                                                    -0.6918\n",
       "lattice                                [[25.5225256, 0.0, 1.5628039641098191e-15], [-...\n",
       "lumo                                                                              0.3917\n",
       "lumo_majority                                                                     0.3917\n",
       "lumo_minority                                                                     0.3917\n",
       "normalized_homo                                                                   0.0843\n",
       "normalized_homo_majority                                                          0.0843\n",
       "normalized_homo_minority                                                          0.0843\n",
       "normalized_lumo                                                                   1.1678\n",
       "normalized_lumo_majority                                                          1.1678\n",
       "normalized_lumo_minority                                                          1.1678\n",
       "nsites                                                                               190\n",
       "nspecies                                                                               3\n",
       "ordinal_id                                                                        3688.0\n",
       "pbc                                                                  [True, True, False]\n",
       "space_group_no                                                                         1\n",
       "structure_formation_energy                                                   -164.639561\n",
       "structure_formation_energy_per_atom                                            -0.866524\n",
       "total_mag                                                                            0.0\n",
       "Name: 6141d99fbaaf234b35290394, dtype: object"
      ]
     },
     "execution_count": 9,
     "metadata": {},
     "output_type": "execute_result"
    }
   ],
   "source": [
    "train_ls0.iloc[0]"
   ]
  },
  {
   "cell_type": "code",
   "execution_count": 29,
   "id": "9bbd512b-18ee-42f1-b6f0-5cd6cd74a26c",
   "metadata": {},
   "outputs": [],
   "source": [
    "from megnet.data.crystal import CrystalGraph\n",
    "from megnet.data.graph import GaussianDistance\n",
    "from megnet.models import MEGNetModel"
   ]
  },
  {
   "cell_type": "code",
   "execution_count": 16,
   "id": "29054ef1-2b90-4e4d-88f0-c8bdd26fcd4c",
   "metadata": {},
   "outputs": [],
   "source": [
    "class GraphConverter(CrystalGraph):\n",
    "    def convert(self, *args, **kwargs):\n",
    "        result = super().convert(*args, **kwargs)\n",
    "        result['state'] = np.array([[1., 2., 3.]], dtype=np.float32)\n",
    "        return result"
   ]
  },
  {
   "cell_type": "code",
   "execution_count": 17,
   "id": "e9bbd21f-941f-44b9-a83c-927c53a8af92",
   "metadata": {},
   "outputs": [],
   "source": [
    "from pymatgen.core.structure import Structure"
   ]
  },
  {
   "cell_type": "code",
   "execution_count": 18,
   "id": "ef7be70d-09d8-4ac2-ae8e-4ff76b84caab",
   "metadata": {},
   "outputs": [],
   "source": [
    "structures = []\n",
    "targets = []\n",
    "for i in range(4):\n",
    "    structure_cif = train_ls0.iloc[i].cif\n",
    "    structure = Structure.from_str(structure_cif, fmt=\"cif\")\n",
    "    target = train_ls0.iloc[i].structure_formation_energy_per_atom\n",
    "    structures.append(structure)\n",
    "    targets.append(target)"
   ]
  },
  {
   "cell_type": "code",
   "execution_count": 19,
   "id": "a86a5ece-c3f6-418a-97d6-e250a8ed3d04",
   "metadata": {},
   "outputs": [],
   "source": [
    "structure_cif = train_ls0.iloc[5].cif\n",
    "new_structure = Structure.from_str(structure_cif, fmt=\"cif\")"
   ]
  },
  {
   "cell_type": "code",
   "execution_count": 20,
   "id": "5e6fd2dd-7956-4445-a5be-eed52fca70cf",
   "metadata": {},
   "outputs": [
    {
     "name": "stdout",
     "output_type": "stream",
     "text": [
      "Defaulting to user installation because normal site-packages is not writeable\n",
      "Collecting pandas==1.5.1\n",
      "  Using cached pandas-1.5.1-cp310-cp310-manylinux_2_17_x86_64.manylinux2014_x86_64.whl (12.1 MB)\n",
      "Collecting tensorflow==2.8.4\n",
      "  Using cached tensorflow-2.8.4-cp310-cp310-manylinux2010_x86_64.whl (498.1 MB)\n",
      "Collecting numpy==1.23.5\n",
      "  Using cached numpy-1.23.5-cp310-cp310-manylinux_2_17_x86_64.manylinux2014_x86_64.whl (17.1 MB)\n",
      "Collecting monty==2023.4.10\n",
      "  Using cached monty-2023.4.10-py3-none-any.whl (67 kB)\n",
      "Collecting tqdm==4.64.1\n",
      "  Using cached tqdm-4.64.1-py2.py3-none-any.whl (78 kB)\n",
      "Requirement already satisfied: pytz>=2020.1 in /home/lepip/.local/lib/python3.10/site-packages (from pandas==1.5.1->-r megnet_requirements.txt (line 1)) (2024.1)\n",
      "Requirement already satisfied: python-dateutil>=2.8.1 in /home/lepip/.local/lib/python3.10/site-packages (from pandas==1.5.1->-r megnet_requirements.txt (line 1)) (2.9.0.post0)\n",
      "Requirement already satisfied: absl-py>=0.4.0 in /home/lepip/.local/lib/python3.10/site-packages (from tensorflow==2.8.4->-r megnet_requirements.txt (line 2)) (2.1.0)\n",
      "Requirement already satisfied: opt-einsum>=2.3.2 in /home/lepip/.local/lib/python3.10/site-packages (from tensorflow==2.8.4->-r megnet_requirements.txt (line 2)) (3.3.0)\n",
      "Requirement already satisfied: astunparse>=1.6.0 in /home/lepip/.local/lib/python3.10/site-packages (from tensorflow==2.8.4->-r megnet_requirements.txt (line 2)) (1.6.3)\n",
      "Requirement already satisfied: six>=1.12.0 in /usr/lib/python3/dist-packages (from tensorflow==2.8.4->-r megnet_requirements.txt (line 2)) (1.16.0)\n",
      "Collecting tensorflow-estimator<2.9,>=2.8\n",
      "  Using cached tensorflow_estimator-2.8.0-py2.py3-none-any.whl (462 kB)\n",
      "Requirement already satisfied: tensorflow-io-gcs-filesystem>=0.23.1 in /home/lepip/.local/lib/python3.10/site-packages (from tensorflow==2.8.4->-r megnet_requirements.txt (line 2)) (0.37.1)\n",
      "Requirement already satisfied: flatbuffers>=1.12 in /home/lepip/.local/lib/python3.10/site-packages (from tensorflow==2.8.4->-r megnet_requirements.txt (line 2)) (24.3.25)\n",
      "Requirement already satisfied: gast>=0.2.1 in /home/lepip/.local/lib/python3.10/site-packages (from tensorflow==2.8.4->-r megnet_requirements.txt (line 2)) (0.5.4)\n",
      "Requirement already satisfied: termcolor>=1.1.0 in /home/lepip/.local/lib/python3.10/site-packages (from tensorflow==2.8.4->-r megnet_requirements.txt (line 2)) (2.4.0)\n",
      "Requirement already satisfied: typing-extensions>=3.6.6 in /home/lepip/.local/lib/python3.10/site-packages (from tensorflow==2.8.4->-r megnet_requirements.txt (line 2)) (4.12.0)\n",
      "Requirement already satisfied: google-pasta>=0.1.1 in /home/lepip/.local/lib/python3.10/site-packages (from tensorflow==2.8.4->-r megnet_requirements.txt (line 2)) (0.2.0)\n",
      "Collecting protobuf<3.20,>=3.9.2\n",
      "  Using cached protobuf-3.19.6-cp310-cp310-manylinux_2_17_x86_64.manylinux2014_x86_64.whl (1.1 MB)\n",
      "Collecting keras<2.9,>=2.8.0rc0\n",
      "  Using cached keras-2.8.0-py2.py3-none-any.whl (1.4 MB)\n",
      "Requirement already satisfied: h5py>=2.9.0 in /home/lepip/.local/lib/python3.10/site-packages (from tensorflow==2.8.4->-r megnet_requirements.txt (line 2)) (3.11.0)\n",
      "Requirement already satisfied: wrapt>=1.11.0 in /home/lepip/.local/lib/python3.10/site-packages (from tensorflow==2.8.4->-r megnet_requirements.txt (line 2)) (1.16.0)\n",
      "Collecting tensorboard<2.9,>=2.8\n",
      "  Using cached tensorboard-2.8.0-py3-none-any.whl (5.8 MB)\n",
      "Requirement already satisfied: libclang>=9.0.1 in /home/lepip/.local/lib/python3.10/site-packages (from tensorflow==2.8.4->-r megnet_requirements.txt (line 2)) (18.1.1)\n",
      "Requirement already satisfied: setuptools in /home/lepip/.local/lib/python3.10/site-packages (from tensorflow==2.8.4->-r megnet_requirements.txt (line 2)) (70.0.0)\n",
      "Collecting keras-preprocessing>=1.1.1\n",
      "  Using cached Keras_Preprocessing-1.1.2-py2.py3-none-any.whl (42 kB)\n",
      "Requirement already satisfied: grpcio<2.0,>=1.24.3 in /home/lepip/.local/lib/python3.10/site-packages (from tensorflow==2.8.4->-r megnet_requirements.txt (line 2)) (1.64.0)\n",
      "Requirement already satisfied: wheel<1.0,>=0.23.0 in /home/lepip/.local/lib/python3.10/site-packages (from astunparse>=1.6.0->tensorflow==2.8.4->-r megnet_requirements.txt (line 2)) (0.43.0)\n",
      "Collecting google-auth-oauthlib<0.5,>=0.4.1\n",
      "  Using cached google_auth_oauthlib-0.4.6-py2.py3-none-any.whl (18 kB)\n",
      "Collecting tensorboard-plugin-wit>=1.6.0\n",
      "  Using cached tensorboard_plugin_wit-1.8.1-py3-none-any.whl (781 kB)\n",
      "Requirement already satisfied: markdown>=2.6.8 in /home/lepip/.local/lib/python3.10/site-packages (from tensorboard<2.9,>=2.8->tensorflow==2.8.4->-r megnet_requirements.txt (line 2)) (3.6)\n",
      "Requirement already satisfied: requests<3,>=2.21.0 in /home/lepip/.local/lib/python3.10/site-packages (from tensorboard<2.9,>=2.8->tensorflow==2.8.4->-r megnet_requirements.txt (line 2)) (2.32.3)\n",
      "Collecting google-auth<3,>=1.6.3\n",
      "  Using cached google_auth-2.32.0-py2.py3-none-any.whl (195 kB)\n",
      "Collecting tensorboard-data-server<0.7.0,>=0.6.0\n",
      "  Using cached tensorboard_data_server-0.6.1-py3-none-manylinux2010_x86_64.whl (4.9 MB)\n",
      "Requirement already satisfied: werkzeug>=0.11.15 in /home/lepip/.local/lib/python3.10/site-packages (from tensorboard<2.9,>=2.8->tensorflow==2.8.4->-r megnet_requirements.txt (line 2)) (3.0.3)\n",
      "Collecting pyasn1-modules>=0.2.1\n",
      "  Using cached pyasn1_modules-0.4.0-py3-none-any.whl (181 kB)\n",
      "Collecting cachetools<6.0,>=2.0.0\n",
      "  Using cached cachetools-5.3.3-py3-none-any.whl (9.3 kB)\n",
      "Collecting rsa<5,>=3.1.4\n",
      "  Using cached rsa-4.9-py3-none-any.whl (34 kB)\n",
      "Collecting requests-oauthlib>=0.7.0\n",
      "  Using cached requests_oauthlib-2.0.0-py2.py3-none-any.whl (24 kB)\n",
      "Requirement already satisfied: certifi>=2017.4.17 in /home/lepip/.local/lib/python3.10/site-packages (from requests<3,>=2.21.0->tensorboard<2.9,>=2.8->tensorflow==2.8.4->-r megnet_requirements.txt (line 2)) (2024.2.2)\n",
      "Requirement already satisfied: idna<4,>=2.5 in /home/lepip/.local/lib/python3.10/site-packages (from requests<3,>=2.21.0->tensorboard<2.9,>=2.8->tensorflow==2.8.4->-r megnet_requirements.txt (line 2)) (3.7)\n",
      "Requirement already satisfied: urllib3<3,>=1.21.1 in /home/lepip/.local/lib/python3.10/site-packages (from requests<3,>=2.21.0->tensorboard<2.9,>=2.8->tensorflow==2.8.4->-r megnet_requirements.txt (line 2)) (2.2.1)\n",
      "Requirement already satisfied: charset-normalizer<4,>=2 in /home/lepip/.local/lib/python3.10/site-packages (from requests<3,>=2.21.0->tensorboard<2.9,>=2.8->tensorflow==2.8.4->-r megnet_requirements.txt (line 2)) (3.3.2)\n",
      "Requirement already satisfied: MarkupSafe>=2.1.1 in /home/lepip/.local/lib/python3.10/site-packages (from werkzeug>=0.11.15->tensorboard<2.9,>=2.8->tensorflow==2.8.4->-r megnet_requirements.txt (line 2)) (2.1.5)\n",
      "Collecting pyasn1<0.7.0,>=0.4.6\n",
      "  Using cached pyasn1-0.6.0-py2.py3-none-any.whl (85 kB)\n",
      "Requirement already satisfied: oauthlib>=3.0.0 in /usr/lib/python3/dist-packages (from requests-oauthlib>=0.7.0->google-auth-oauthlib<0.5,>=0.4.1->tensorboard<2.9,>=2.8->tensorflow==2.8.4->-r megnet_requirements.txt (line 2)) (3.2.0)\n",
      "Installing collected packages: tensorflow-estimator, tensorboard-plugin-wit, keras, tqdm, tensorboard-data-server, pyasn1, protobuf, numpy, monty, cachetools, rsa, requests-oauthlib, pyasn1-modules, pandas, keras-preprocessing, google-auth, google-auth-oauthlib, tensorboard, tensorflow\n",
      "  Attempting uninstall: keras\n",
      "    Found existing installation: keras 3.3.3\n",
      "    Uninstalling keras-3.3.3:\n",
      "      Successfully uninstalled keras-3.3.3\n",
      "  Attempting uninstall: tqdm\n",
      "    Found existing installation: tqdm 4.66.4\n",
      "    Uninstalling tqdm-4.66.4:\n",
      "      Successfully uninstalled tqdm-4.66.4\n",
      "\u001b[33m  WARNING: The script tqdm is installed in '/home/lepip/.local/bin' which is not on PATH.\n",
      "  Consider adding this directory to PATH or, if you prefer to suppress this warning, use --no-warn-script-location.\u001b[0m\u001b[33m\n",
      "\u001b[0m  Attempting uninstall: tensorboard-data-server\n",
      "    Found existing installation: tensorboard-data-server 0.7.2\n",
      "    Uninstalling tensorboard-data-server-0.7.2:\n",
      "      Successfully uninstalled tensorboard-data-server-0.7.2\n",
      "  Attempting uninstall: protobuf\n",
      "    Found existing installation: protobuf 4.25.3\n",
      "    Uninstalling protobuf-4.25.3:\n",
      "      Successfully uninstalled protobuf-4.25.3\n",
      "  Attempting uninstall: numpy\n",
      "    Found existing installation: numpy 1.26.4\n",
      "    Uninstalling numpy-1.26.4:\n",
      "      Successfully uninstalled numpy-1.26.4\n",
      "\u001b[33m  WARNING: The scripts f2py, f2py3 and f2py3.10 are installed in '/home/lepip/.local/bin' which is not on PATH.\n",
      "  Consider adding this directory to PATH or, if you prefer to suppress this warning, use --no-warn-script-location.\u001b[0m\u001b[33m\n",
      "\u001b[0m  Attempting uninstall: monty\n",
      "    Found existing installation: monty 2024.5.24\n",
      "    Uninstalling monty-2024.5.24:\n",
      "      Successfully uninstalled monty-2024.5.24\n",
      "\u001b[33m  WARNING: The scripts pyrsa-decrypt, pyrsa-encrypt, pyrsa-keygen, pyrsa-priv2pub, pyrsa-sign and pyrsa-verify are installed in '/home/lepip/.local/bin' which is not on PATH.\n",
      "  Consider adding this directory to PATH or, if you prefer to suppress this warning, use --no-warn-script-location.\u001b[0m\u001b[33m\n",
      "\u001b[0m  Attempting uninstall: pandas\n",
      "    Found existing installation: pandas 2.2.1\n",
      "    Uninstalling pandas-2.2.1:\n",
      "      Successfully uninstalled pandas-2.2.1\n",
      "\u001b[33m  WARNING: The script google-oauthlib-tool is installed in '/home/lepip/.local/bin' which is not on PATH.\n",
      "  Consider adding this directory to PATH or, if you prefer to suppress this warning, use --no-warn-script-location.\u001b[0m\u001b[33m\n",
      "\u001b[0m  Attempting uninstall: tensorboard\n",
      "    Found existing installation: tensorboard 2.16.2\n",
      "    Uninstalling tensorboard-2.16.2:\n",
      "      Successfully uninstalled tensorboard-2.16.2\n",
      "\u001b[33m  WARNING: The script tensorboard is installed in '/home/lepip/.local/bin' which is not on PATH.\n",
      "  Consider adding this directory to PATH or, if you prefer to suppress this warning, use --no-warn-script-location.\u001b[0m\u001b[33m\n",
      "\u001b[0m  Attempting uninstall: tensorflow\n",
      "    Found existing installation: tensorflow 2.16.2\n",
      "    Uninstalling tensorflow-2.16.2:\n",
      "      Successfully uninstalled tensorflow-2.16.2\n",
      "\u001b[33m  WARNING: The scripts estimator_ckpt_converter, import_pb_to_tensorboard, saved_model_cli, tensorboard, tf_upgrade_v2, tflite_convert, toco and toco_from_protos are installed in '/home/lepip/.local/bin' which is not on PATH.\n",
      "  Consider adding this directory to PATH or, if you prefer to suppress this warning, use --no-warn-script-location.\u001b[0m\u001b[33m\n",
      "\u001b[0m\u001b[31mERROR: pip's dependency resolver does not currently take into account all the packages that are installed. This behaviour is the source of the following dependency conflicts.\n",
      "pymatgen 2024.5.31 requires monty>=2024.2.2, but you have monty 2023.4.10 which is incompatible.\n",
      "pymatgen 2024.5.31 requires numpy>=1.25.0, but you have numpy 1.23.5 which is incompatible.\u001b[0m\u001b[31m\n",
      "\u001b[0mSuccessfully installed cachetools-5.3.3 google-auth-2.32.0 google-auth-oauthlib-0.4.6 keras-2.8.0 keras-preprocessing-1.1.2 monty-2023.4.10 numpy-1.23.5 pandas-1.5.1 protobuf-3.19.6 pyasn1-0.6.0 pyasn1-modules-0.4.0 requests-oauthlib-2.0.0 rsa-4.9 tensorboard-2.8.0 tensorboard-data-server-0.6.1 tensorboard-plugin-wit-1.8.1 tensorflow-2.8.4 tensorflow-estimator-2.8.0 tqdm-4.64.1\n"
     ]
    }
   ],
   "source": [
    "!pip install -r megnet_requirements.txt"
   ]
  },
  {
   "cell_type": "code",
   "execution_count": 34,
   "id": "53ebfb7b-6162-45e6-82be-5d64dc1f2bbe",
   "metadata": {},
   "outputs": [
    {
     "name": "stdout",
     "output_type": "stream",
     "text": [
      "first citing: MinimumDistanceNNAll\n",
      "Epoch 1/10\n",
      "1/1 [==============================] - 13s 13s/step - loss: 0.6285\n",
      "Epoch 2/10\n",
      "1/1 [==============================] - 0s 227ms/step - loss: 0.4783\n",
      "Epoch 3/10\n",
      "1/1 [==============================] - 0s 216ms/step - loss: 0.3386\n",
      "Epoch 4/10\n",
      "1/1 [==============================] - 0s 209ms/step - loss: 0.2094\n",
      "Epoch 5/10\n",
      "1/1 [==============================] - 0s 204ms/step - loss: 0.0972\n",
      "Epoch 6/10\n",
      "1/1 [==============================] - 0s 205ms/step - loss: 0.0187\n",
      "Epoch 7/10\n",
      "1/1 [==============================] - 0s 204ms/step - loss: 0.0055\n",
      "Epoch 8/10\n",
      "1/1 [==============================] - 0s 209ms/step - loss: 0.0683\n",
      "Epoch 9/10\n",
      "1/1 [==============================] - 0s 205ms/step - loss: 0.1007\n",
      "Epoch 10/10\n",
      "1/1 [==============================] - 0s 204ms/step - loss: 0.0757\n"
     ]
    }
   ],
   "source": [
    "nfeat_bond = 10\n",
    "r_cutoff = 5\n",
    "gaussian_centers = np.linspace(0, r_cutoff + 1, nfeat_bond)\n",
    "gaussian_width = 0.5\n",
    "nfeat_global = 3\n",
    "graph_converter = GraphConverter(cutoff=r_cutoff)\n",
    "model = MEGNetModel(nn_strategy=\"MinimumDistanceNNAll\", nfeat_global=nfeat_global, nfeat_bond=nfeat_bond, graph_converter=graph_converter, centers=gaussian_centers, width=gaussian_width)\n",
    "\n",
    "# Model training\n",
    "# Here, `structures` is a list of pymatgen Structure objects.\n",
    "# `targets` is a corresponding list of properties.\n",
    "model.train(structures, targets, epochs=10)\n",
    "\n",
    "# Predict the property of a new structure\n",
    "pred_target = model.predict_structure(new_structure)"
   ]
  },
  {
   "cell_type": "code",
   "execution_count": 35,
   "id": "3dc6625b-a03d-4210-aad1-b10dfc490cd5",
   "metadata": {},
   "outputs": [
    {
     "data": {
      "text/plain": [
       "array([-1.049614], dtype=float32)"
      ]
     },
     "execution_count": 35,
     "metadata": {},
     "output_type": "execute_result"
    }
   ],
   "source": [
    "pred_target"
   ]
  },
  {
   "cell_type": "code",
   "execution_count": null,
   "id": "1c11adf3-d0c8-4a56-9b1f-1325beda12cc",
   "metadata": {},
   "outputs": [],
   "source": []
  }
 ],
 "metadata": {
  "kernelspec": {
   "display_name": "venv3.10",
   "language": "python",
   "name": "venv3.10"
  },
  "language_info": {
   "codemirror_mode": {
    "name": "ipython",
    "version": 3
   },
   "file_extension": ".py",
   "mimetype": "text/x-python",
   "name": "python",
   "nbconvert_exporter": "python",
   "pygments_lexer": "ipython3",
   "version": "3.10.12"
  }
 },
 "nbformat": 4,
 "nbformat_minor": 5
}
